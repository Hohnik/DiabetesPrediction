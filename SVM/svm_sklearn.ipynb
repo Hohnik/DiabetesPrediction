{
 "cells": [
  {
   "cell_type": "code",
   "execution_count": null,
   "metadata": {},
   "outputs": [],
   "source": [
    "import pandas as pd\n",
    "import time\n",
    "import joblib\n",
    "from sklearn.svm import SVC as SVC_sklearn\n",
    "from sklearn.metrics import accuracy_score, classification_report\n",
    "\n",
    "train_set_sk = pd.read_csv(DATAPATH + 'train_set.csv')\n",
    "train_labels_sk = pd.read_csv(DATAPATH + 'train_labels.csv')\n",
    "test_set_sk = pd.read_csv(DATAPATH + 'test_set.csv')\n",
    "test_labels_sk = pd.read_csv(DATAPATH + 'test_labels.csv')\n",
    "train_labels_sk = train_labels_sk.values.ravel()\n",
    "test_labels_sk = test_labels_sk.values.ravel()\n",
    "\n",
    "\n",
    "svm_scikit_learn = SVC_sklearn(kernel='poly', degree=5, gamma=0.1, C=1, tol=0.1, max_iter=4000, class_weight='balanced')\n",
    "start = time.time()\n",
    "svm_scikit_learn.fit(train_set_sk, train_labels_sk)\n",
    "end = time.time()\n",
    "\n",
    "svm_scikit_learn_score = svm_scikit_learn.score(test_set_sk, test_labels_sk)\n",
    "\n",
    "print('Time to train: ', end - start)\n",
    "print('Accuracy: ', svm_scikit_learn_score)\n",
    "\n",
    "joblib.dump(svm_scikit_learn, MODELPATHSKLEARN + 'SVM_para_sampl_sklearn.pkl')"
   ]
  }
 ],
 "metadata": {
  "kernelspec": {
   "display_name": "rapids-24.12",
   "language": "python",
   "name": "python3"
  },
  "language_info": {
   "name": "python",
   "version": "3.12.8"
  }
 },
 "nbformat": 4,
 "nbformat_minor": 2
}
