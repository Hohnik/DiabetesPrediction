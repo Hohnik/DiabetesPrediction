{
 "cells": [
  {
   "cell_type": "markdown",
   "id": "e477ff41",
   "metadata": {},
   "source": [
    "# Support Vector Machines \n",
    "### with Hyperparameter Tuning\n",
    "\n",
    "### Hinweis:\n",
    "Anders als in den Praktika und Vorlesungen verwenden wir hier nicht Scikit-learn, sondern die Bibliothek cuML (CUDA Machine Learning). Diese ermöglicht es uns, unsere SVMs auf einer NVIDIA GPU zu trainieren, was den Trainingsprozess extrem beschleunigt. An der Herangehensweise und der Art und Weise, wie wir die Hyperparameter tunen, ändert sich dadurch jedoch nichts."
   ]
  },
  {
   "cell_type": "markdown",
   "id": "1fd90c6d",
   "metadata": {},
   "source": [
    "1. Laden der aufbereiteten Daten der vorherigen Gruppe: (Da wir cuML verwenden, benutzen wir hier ein cuDF DataFrame anstelle eines Pandas DataFrame.)\n",
    "2. cuML akzeptiert nur Arrays und keine DataFrames, deswegen müssen wir noch die Sets und Labels in ein CuPy-Array umwandeln."
   ]
  },
  {
   "cell_type": "code",
   "execution_count": 1,
   "id": "7670f689",
   "metadata": {},
   "outputs": [],
   "source": [
    "import cudf\n",
    "import cupy as cp\n",
    "import numpy as np\n",
    "import time\n",
    "from cuml.svm import SVC\n",
    "from cuml.metrics import accuracy_score\n",
    "from sklearn.model_selection import ParameterSampler, ParameterGrid\n",
    "from sklearn.model_selection import RandomizedSearchCV, GridSearchCV\n",
    "import joblib\n",
    "\n",
    "DATAPATH = '../Data/'\n",
    "MODELPATH = '../Data/Models/SVM/'\n",
    "MODELPATHSKLEARN = '../Data/Models/SVM/SVM_sklearn/'\n",
    "\n",
    "train_set = cudf.read_csv(DATAPATH + 'train_set.csv')\n",
    "train_labels = cudf.read_csv(DATAPATH + 'train_labels.csv')\n",
    "test_set = cudf.read_csv(DATAPATH + 'test_set.csv')\n",
    "test_labels = cudf.read_csv(DATAPATH + 'test_labels.csv')\n",
    "\n",
    "train_set = train_set.to_cupy()\n",
    "test_set = test_set.to_cupy()\n",
    "train_labels = train_labels.to_cupy()\n",
    "test_labels = test_labels.to_cupy()\n"
   ]
  },
  {
   "cell_type": "code",
   "execution_count": 5,
   "id": "8f245093",
   "metadata": {},
   "outputs": [
    {
     "name": "stdout",
     "output_type": "stream",
     "text": [
      "Time to train:  0.003141641616821289\n",
      "Accuracy:  0.7402597402597403\n"
     ]
    },
    {
     "name": "stderr",
     "output_type": "stream",
     "text": [
      "/home/chris/miniconda3/envs/rapids-24.12/lib/python3.12/site-packages/sklearn/utils/validation.py:1408: DataConversionWarning: A column-vector y was passed when a 1d array was expected. Please change the shape of y to (n_samples, ), for example using ravel().\n",
      "  y = column_or_1d(y, warn=True)\n",
      "/home/chris/miniconda3/envs/rapids-24.12/lib/python3.12/site-packages/sklearn/svm/_base.py:1243: ConvergenceWarning: Liblinear failed to converge, increase the number of iterations.\n",
      "  warnings.warn(\n"
     ]
    },
    {
     "data": {
      "text/plain": [
       "['../Data/Models/SVM/SVM_sklearn/SVM_para_grid_sklearn.pkl']"
      ]
     },
     "execution_count": 5,
     "metadata": {},
     "output_type": "execute_result"
    }
   ],
   "source": [
    "import pandas as pd\n",
    "from sklearn.svm import LinearSVC\n",
    "from sklearn.metrics import accuracy_score, classification_report\n",
    "\n",
    "train_set_sk = pd.read_csv(DATAPATH + 'train_set.csv')\n",
    "train_labels_sk = pd.read_csv(DATAPATH + 'train_labels.csv')\n",
    "test_set_sk = pd.read_csv(DATAPATH + 'test_set.csv')\n",
    "test_labels_sk = pd.read_csv(DATAPATH + 'test_labels.csv')\n",
    "\n",
    "svm_scikit_learn = LinearSVC(penalty='l2', max_iter=680, loss='hinge', class_weight='balanced', C=4.943)\n",
    "start = time.time()\n",
    "svm_scikit_learn.fit(train_set_sk, train_labels_sk)\n",
    "end = time.time()\n",
    "\n",
    "svm_scikit_learn_score = svm_scikit_learn.score(test_set_sk, test_labels_sk)\n",
    "\n",
    "print('Time to train: ', end - start)\n",
    "print('Accuracy: ', svm_scikit_learn_score)\n",
    "\n",
    "joblib.dump(svm_scikit_learn, MODELPATHSKLEARN + 'SVM_para_grid_sklearn.pkl')\n"
   ]
  },
  {
   "cell_type": "code",
   "execution_count": 9,
   "id": "9ec5bb1c",
   "metadata": {},
   "outputs": [
    {
     "name": "stdout",
     "output_type": "stream",
     "text": [
      "Accuracy: 0.7532467246055603\n"
     ]
    }
   ],
   "source": [
    "clf = SVC()\n",
    "\n",
    "clf.fit(train_set, train_labels)\n",
    "\n",
    "test_pred = clf.predict(test_set)\n",
    "accuracy_score = accuracy_score(test_labels, test_pred)\n",
    "\n",
    "joblib.dump(clf, MODELPATH + 'SVM_no_hyper.pkl')\n",
    "\n",
    "print(f'Accuracy: {accuracy_score}')"
   ]
  },
  {
   "cell_type": "markdown",
   "id": "4590745c",
   "metadata": {},
   "source": [
    "* Ohne Hyperparameter Tuning erhalten wir eine Accuracy von **ca. 0.753** ein wert den wir auf jeden fall noch verbessern wollen.\n",
    "* Als erstes verwenden wir ParameterSampler, um eine breitere Fläche an Hyperparametern testen zu koennen.\n"
   ]
  },
  {
   "cell_type": "markdown",
   "id": "12d47b47",
   "metadata": {},
   "source": [
    "<math xmlns=\"http://www.w3.org/1998/Math/MathML\" display=\"block\">\n",
    "  <mi>C</mi>\n",
    "  <munder>\n",
    "    <mo data-mjx-texclass=\"OP\">&#x2211;</mo>\n",
    "    <mrow data-mjx-texclass=\"ORD\">\n",
    "      <mi>i</mi>\n",
    "      <mo>=</mo>\n",
    "      <mn>1</mn>\n",
    "      <mo>,</mo>\n",
    "      <mi>n</mi>\n",
    "    </mrow>\n",
    "  </munder>\n",
    "  <mrow data-mjx-texclass=\"ORD\">\n",
    "    <mi data-mjx-variant=\"-tex-calligraphic\" mathvariant=\"script\">L</mi>\n",
    "  </mrow>\n",
    "  <mo stretchy=\"false\">(</mo>\n",
    "  <mi>f</mi>\n",
    "  <mo stretchy=\"false\">(</mo>\n",
    "  <msub>\n",
    "    <mi>x</mi>\n",
    "    <mi>i</mi>\n",
    "  </msub>\n",
    "  <mo stretchy=\"false\">)</mo>\n",
    "  <mo>,</mo>\n",
    "  <msub>\n",
    "    <mi>y</mi>\n",
    "    <mi>i</mi>\n",
    "  </msub>\n",
    "  <mo stretchy=\"false\">)</mo>\n",
    "  <mo>+</mo>\n",
    "  <mi mathvariant=\"normal\">&#x3A9;</mi>\n",
    "  <mo stretchy=\"false\">(</mo>\n",
    "  <mi>w</mi>\n",
    "  <mo stretchy=\"false\">)</mo>\n",
    "</math>"
   ]
  },
  {
   "cell_type": "code",
   "execution_count": 7,
   "id": "e1977591",
   "metadata": {},
   "outputs": [
    {
     "name": "stdout",
     "output_type": "stream",
     "text": [
      "Skipping invalid parameter combination: {'tol': np.float64(0.00021544346900318823), 'max_iter': 1000, 'kernel': 'linear', 'class_weight': 'balanced', 'C': np.float64(35.93813663804626)}\n",
      "Error: At least 3 classes are required to use probabilistic SVC with class weights.\n",
      "Skipping invalid parameter combination: {'tol': np.float64(0.00021544346900318823), 'max_iter': 1000, 'kernel': 'linear', 'class_weight': 'balanced', 'C': np.float64(1.668100537200059)}\n",
      "Error: At least 3 classes are required to use probabilistic SVC with class weights.\n",
      "Skipping invalid parameter combination: {'tol': np.float64(9.999999999999999e-06), 'max_iter': 1000, 'kernel': 'linear', 'class_weight': 'balanced', 'C': np.float64(12.915496650148826)}\n",
      "Error: At least 3 classes are required to use probabilistic SVC with class weights.\n",
      "Skipping invalid parameter combination: {'tol': np.float64(0.001668100537200059), 'max_iter': 1000, 'kernel': 'linear', 'class_weight': 'balanced', 'C': np.float64(0.5994842503189409)}\n",
      "Error: At least 3 classes are required to use probabilistic SVC with class weights.\n",
      "Skipping invalid parameter combination: {'tol': np.float64(0.0005994842503189409), 'max_iter': 1000, 'kernel': 'linear', 'class_weight': 'balanced', 'C': np.float64(0.5994842503189409)}\n",
      "Error: At least 3 classes are required to use probabilistic SVC with class weights.\n",
      "Skipping invalid parameter combination: {'tol': np.float64(0.1), 'max_iter': 1000, 'kernel': 'linear', 'class_weight': 'balanced', 'C': np.float64(0.21544346900318834)}\n",
      "Error: At least 3 classes are required to use probabilistic SVC with class weights.\n",
      "Skipping invalid parameter combination: {'tol': np.float64(7.742636826811277e-05), 'max_iter': 1000, 'kernel': 'linear', 'class_weight': 'balanced', 'C': np.float64(0.0774263682681127)}\n",
      "Error: At least 3 classes are required to use probabilistic SVC with class weights.\n",
      "Skipping invalid parameter combination: {'tol': np.float64(9.999999999999999e-06), 'max_iter': 1000, 'kernel': 'linear', 'class_weight': 'balanced', 'C': np.float64(35.93813663804626)}\n",
      "Error: At least 3 classes are required to use probabilistic SVC with class weights.\n",
      "Skipping invalid parameter combination: {'tol': np.float64(9.999999999999999e-06), 'max_iter': 1000, 'kernel': 'linear', 'class_weight': 'balanced', 'C': np.float64(0.027825594022071243)}\n",
      "Error: At least 3 classes are required to use probabilistic SVC with class weights.\n",
      "Skipping invalid parameter combination: {'tol': np.float64(9.999999999999999e-06), 'max_iter': 1000, 'kernel': 'linear', 'class_weight': 'balanced', 'C': np.float64(0.01)}\n",
      "Error: At least 3 classes are required to use probabilistic SVC with class weights.\n",
      "Skipping invalid parameter combination: {'tol': np.float64(0.03593813663804626), 'max_iter': 1000, 'kernel': 'linear', 'class_weight': 'balanced', 'C': np.float64(0.027825594022071243)}\n",
      "Error: At least 3 classes are required to use probabilistic SVC with class weights.\n",
      "Skipping invalid parameter combination: {'tol': np.float64(9.999999999999999e-06), 'max_iter': 1000, 'kernel': 'linear', 'class_weight': 'balanced', 'C': np.float64(0.21544346900318834)}\n",
      "Error: At least 3 classes are required to use probabilistic SVC with class weights.\n",
      "Skipping invalid parameter combination: {'tol': np.float64(0.00021544346900318823), 'max_iter': 1000, 'kernel': 'linear', 'class_weight': 'balanced', 'C': np.float64(12.915496650148826)}\n",
      "Error: At least 3 classes are required to use probabilistic SVC with class weights.\n",
      "Skipping invalid parameter combination: {'tol': np.float64(0.00021544346900318823), 'max_iter': 1000, 'kernel': 'linear', 'class_weight': 'balanced', 'C': np.float64(0.21544346900318834)}\n",
      "Error: At least 3 classes are required to use probabilistic SVC with class weights.\n",
      "Skipping invalid parameter combination: {'tol': np.float64(9.999999999999999e-06), 'max_iter': 1000, 'kernel': 'linear', 'class_weight': 'balanced', 'C': np.float64(100.0)}\n",
      "Error: At least 3 classes are required to use probabilistic SVC with class weights.\n",
      "Skipping invalid parameter combination: {'tol': np.float64(0.0005994842503189409), 'max_iter': 1000, 'kernel': 'linear', 'class_weight': 'balanced', 'C': np.float64(0.01)}\n",
      "Error: At least 3 classes are required to use probabilistic SVC with class weights.\n",
      "Skipping invalid parameter combination: {'tol': np.float64(0.004641588833612777), 'max_iter': 1000, 'kernel': 'linear', 'class_weight': 'balanced', 'C': np.float64(12.915496650148826)}\n",
      "Error: At least 3 classes are required to use probabilistic SVC with class weights.\n",
      "Skipping invalid parameter combination: {'tol': np.float64(0.012915496650148827), 'max_iter': 1000, 'kernel': 'linear', 'class_weight': 'balanced', 'C': np.float64(12.915496650148826)}\n",
      "Error: At least 3 classes are required to use probabilistic SVC with class weights.\n",
      "Skipping invalid parameter combination: {'tol': np.float64(7.742636826811277e-05), 'max_iter': 1000, 'kernel': 'linear', 'class_weight': 'balanced', 'C': np.float64(0.027825594022071243)}\n",
      "Error: At least 3 classes are required to use probabilistic SVC with class weights.\n",
      "Skipping invalid parameter combination: {'tol': np.float64(2.782559402207126e-05), 'max_iter': 1000, 'kernel': 'linear', 'class_weight': 'balanced', 'C': np.float64(0.21544346900318834)}\n",
      "Error: At least 3 classes are required to use probabilistic SVC with class weights.\n",
      "Skipping invalid parameter combination: {'tol': np.float64(0.001668100537200059), 'max_iter': 1000, 'kernel': 'linear', 'class_weight': 'balanced', 'C': np.float64(1.668100537200059)}\n",
      "Error: At least 3 classes are required to use probabilistic SVC with class weights.\n",
      "Skipping invalid parameter combination: {'tol': np.float64(0.03593813663804626), 'max_iter': 1000, 'kernel': 'linear', 'class_weight': 'balanced', 'C': np.float64(35.93813663804626)}\n",
      "Error: At least 3 classes are required to use probabilistic SVC with class weights.\n",
      "Skipping invalid parameter combination: {'tol': np.float64(0.004641588833612777), 'max_iter': 1000, 'kernel': 'linear', 'class_weight': 'balanced', 'C': np.float64(0.0774263682681127)}\n",
      "Error: At least 3 classes are required to use probabilistic SVC with class weights.\n",
      "Skipping invalid parameter combination: {'tol': np.float64(7.742636826811277e-05), 'max_iter': 1000, 'kernel': 'linear', 'class_weight': 'balanced', 'C': np.float64(0.5994842503189409)}\n",
      "Error: At least 3 classes are required to use probabilistic SVC with class weights.\n",
      "Skipping invalid parameter combination: {'tol': np.float64(0.1), 'max_iter': 1000, 'kernel': 'linear', 'class_weight': 'balanced', 'C': np.float64(4.6415888336127775)}\n",
      "Error: At least 3 classes are required to use probabilistic SVC with class weights.\n",
      "Skipping invalid parameter combination: {'tol': np.float64(0.001668100537200059), 'max_iter': 1000, 'kernel': 'linear', 'class_weight': 'balanced', 'C': np.float64(0.027825594022071243)}\n",
      "Error: At least 3 classes are required to use probabilistic SVC with class weights.\n",
      "Skipping invalid parameter combination: {'tol': np.float64(9.999999999999999e-06), 'max_iter': 1000, 'kernel': 'linear', 'class_weight': 'balanced', 'C': np.float64(0.5994842503189409)}\n",
      "Error: At least 3 classes are required to use probabilistic SVC with class weights.\n",
      "Skipping invalid parameter combination: {'tol': np.float64(0.004641588833612777), 'max_iter': 1000, 'kernel': 'linear', 'class_weight': 'balanced', 'C': np.float64(100.0)}\n",
      "Error: At least 3 classes are required to use probabilistic SVC with class weights.\n",
      "Skipping invalid parameter combination: {'tol': np.float64(0.1), 'max_iter': 1000, 'kernel': 'linear', 'class_weight': 'balanced', 'C': np.float64(0.01)}\n",
      "Error: At least 3 classes are required to use probabilistic SVC with class weights.\n",
      "Skipping invalid parameter combination: {'tol': np.float64(7.742636826811277e-05), 'max_iter': 1000, 'kernel': 'linear', 'class_weight': 'balanced', 'C': np.float64(12.915496650148826)}\n",
      "Error: At least 3 classes are required to use probabilistic SVC with class weights.\n",
      "Skipping invalid parameter combination: {'tol': np.float64(2.782559402207126e-05), 'max_iter': 1000, 'kernel': 'linear', 'class_weight': 'balanced', 'C': np.float64(0.027825594022071243)}\n",
      "Error: At least 3 classes are required to use probabilistic SVC with class weights.\n",
      "Skipping invalid parameter combination: {'tol': np.float64(0.012915496650148827), 'max_iter': 1000, 'kernel': 'linear', 'class_weight': 'balanced', 'C': np.float64(0.5994842503189409)}\n",
      "Error: At least 3 classes are required to use probabilistic SVC with class weights.\n",
      "Skipping invalid parameter combination: {'tol': np.float64(0.001668100537200059), 'max_iter': 1000, 'kernel': 'linear', 'class_weight': 'balanced', 'C': np.float64(35.93813663804626)}\n",
      "Error: At least 3 classes are required to use probabilistic SVC with class weights.\n",
      "Skipping invalid parameter combination: {'tol': np.float64(0.03593813663804626), 'max_iter': 1000, 'kernel': 'linear', 'class_weight': 'balanced', 'C': np.float64(0.0774263682681127)}\n",
      "Error: At least 3 classes are required to use probabilistic SVC with class weights.\n",
      "Skipping invalid parameter combination: {'tol': np.float64(0.00021544346900318823), 'max_iter': 1000, 'kernel': 'linear', 'class_weight': 'balanced', 'C': np.float64(100.0)}\n",
      "Error: At least 3 classes are required to use probabilistic SVC with class weights.\n",
      "Skipping invalid parameter combination: {'tol': np.float64(0.001668100537200059), 'max_iter': 1000, 'kernel': 'linear', 'class_weight': 'balanced', 'C': np.float64(0.01)}\n",
      "Error: At least 3 classes are required to use probabilistic SVC with class weights.\n",
      "Skipping invalid parameter combination: {'tol': np.float64(0.004641588833612777), 'max_iter': 1000, 'kernel': 'linear', 'class_weight': 'balanced', 'C': np.float64(4.6415888336127775)}\n",
      "Error: At least 3 classes are required to use probabilistic SVC with class weights.\n",
      "Skipping invalid parameter combination: {'tol': np.float64(0.001668100537200059), 'max_iter': 1000, 'kernel': 'linear', 'class_weight': 'balanced', 'C': np.float64(4.6415888336127775)}\n",
      "Error: At least 3 classes are required to use probabilistic SVC with class weights.\n",
      "Skipping invalid parameter combination: {'tol': np.float64(0.001668100537200059), 'max_iter': 1000, 'kernel': 'linear', 'class_weight': 'balanced', 'C': np.float64(0.21544346900318834)}\n",
      "Error: At least 3 classes are required to use probabilistic SVC with class weights.\n",
      "Skipping invalid parameter combination: {'tol': np.float64(0.004641588833612777), 'max_iter': 1000, 'kernel': 'linear', 'class_weight': 'balanced', 'C': np.float64(0.027825594022071243)}\n",
      "Error: At least 3 classes are required to use probabilistic SVC with class weights.\n",
      "Skipping invalid parameter combination: {'tol': np.float64(0.1), 'max_iter': 1000, 'kernel': 'linear', 'class_weight': 'balanced', 'C': np.float64(0.5994842503189409)}\n",
      "Error: At least 3 classes are required to use probabilistic SVC with class weights.\n",
      "Skipping invalid parameter combination: {'tol': np.float64(0.0005994842503189409), 'max_iter': 1000, 'kernel': 'linear', 'class_weight': 'balanced', 'C': np.float64(0.21544346900318834)}\n",
      "Error: At least 3 classes are required to use probabilistic SVC with class weights.\n",
      "Skipping invalid parameter combination: {'tol': np.float64(0.012915496650148827), 'max_iter': 1000, 'kernel': 'linear', 'class_weight': 'balanced', 'C': np.float64(0.01)}\n",
      "Error: At least 3 classes are required to use probabilistic SVC with class weights.\n",
      "Skipping invalid parameter combination: {'tol': np.float64(0.001668100537200059), 'max_iter': 1000, 'kernel': 'linear', 'class_weight': 'balanced', 'C': np.float64(100.0)}\n",
      "Error: At least 3 classes are required to use probabilistic SVC with class weights.\n",
      "Skipping invalid parameter combination: {'tol': np.float64(0.012915496650148827), 'max_iter': 1000, 'kernel': 'linear', 'class_weight': 'balanced', 'C': np.float64(0.0774263682681127)}\n",
      "Error: At least 3 classes are required to use probabilistic SVC with class weights.\n",
      "Skipping invalid parameter combination: {'tol': np.float64(0.1), 'max_iter': 1000, 'kernel': 'linear', 'class_weight': 'balanced', 'C': np.float64(0.027825594022071243)}\n",
      "Error: At least 3 classes are required to use probabilistic SVC with class weights.\n",
      "Skipping invalid parameter combination: {'tol': np.float64(2.782559402207126e-05), 'max_iter': 1000, 'kernel': 'linear', 'class_weight': 'balanced', 'C': np.float64(35.93813663804626)}\n",
      "Error: At least 3 classes are required to use probabilistic SVC with class weights.\n",
      "Skipping invalid parameter combination: {'tol': np.float64(0.001668100537200059), 'max_iter': 1000, 'kernel': 'linear', 'class_weight': 'balanced', 'C': np.float64(0.0774263682681127)}\n",
      "Error: At least 3 classes are required to use probabilistic SVC with class weights.\n",
      "Skipping invalid parameter combination: {'tol': np.float64(7.742636826811277e-05), 'max_iter': 1000, 'kernel': 'linear', 'class_weight': 'balanced', 'C': np.float64(4.6415888336127775)}\n",
      "Error: At least 3 classes are required to use probabilistic SVC with class weights.\n",
      "Skipping invalid parameter combination: {'tol': np.float64(0.00021544346900318823), 'max_iter': 1000, 'kernel': 'linear', 'class_weight': 'balanced', 'C': np.float64(0.027825594022071243)}\n",
      "Error: At least 3 classes are required to use probabilistic SVC with class weights.\n",
      "Best parameters: None\n",
      "Best accuracy: 0\n",
      "Time taken: 0.51 seconds\n"
     ]
    },
    {
     "ename": "TypeError",
     "evalue": "cuml.svm.svc.SVC() argument after ** must be a mapping, not NoneType",
     "output_type": "error",
     "traceback": [
      "\u001b[0;31m---------------------------------------------------------------------------\u001b[0m",
      "\u001b[0;31mTypeError\u001b[0m                                 Traceback (most recent call last)",
      "Cell \u001b[0;32mIn[7], line 72\u001b[0m\n\u001b[1;32m     69\u001b[0m \u001b[38;5;28mprint\u001b[39m(\u001b[38;5;124mf\u001b[39m\u001b[38;5;124m\"\u001b[39m\u001b[38;5;124mTime taken: \u001b[39m\u001b[38;5;132;01m{\u001b[39;00mend_time\u001b[38;5;250m \u001b[39m\u001b[38;5;241m-\u001b[39m\u001b[38;5;250m \u001b[39mstart_time\u001b[38;5;132;01m:\u001b[39;00m\u001b[38;5;124m.2f\u001b[39m\u001b[38;5;132;01m}\u001b[39;00m\u001b[38;5;124m seconds\u001b[39m\u001b[38;5;124m\"\u001b[39m)\n\u001b[1;32m     71\u001b[0m \u001b[38;5;66;03m# Train the final model with the best parameters on the full dataset\u001b[39;00m\n\u001b[0;32m---> 72\u001b[0m best_model \u001b[38;5;241m=\u001b[39m SVC(\u001b[38;5;241m*\u001b[39m\u001b[38;5;241m*\u001b[39mbest_params)  \u001b[38;5;66;03m# Use SVC\u001b[39;00m\n\u001b[1;32m     73\u001b[0m best_model\u001b[38;5;241m.\u001b[39mfit(train_set, train_labels)  \u001b[38;5;66;03m# Fit on train data\u001b[39;00m\n\u001b[1;32m     74\u001b[0m test_predictions \u001b[38;5;241m=\u001b[39m best_model\u001b[38;5;241m.\u001b[39mpredict(test_set)\n",
      "\u001b[0;31mTypeError\u001b[0m: cuml.svm.svc.SVC() argument after ** must be a mapping, not NoneType"
     ]
    }
   ],
   "source": [
    "train_labels = train_labels.flatten()\n",
    "test_labels = test_labels.flatten()\n",
    "\n",
    "param_distributions = [\n",
    "    {\n",
    "        'kernel': ['linear'],\n",
    "        'class_weight': [None, 'balanced'],\n",
    "        'C': np.logspace(-2, 2, 10), \n",
    "        'tol': np.logspace(-5, -1, 10),\n",
    "        'max_iter': [1000]\n",
    "    },\n",
    "    #{\n",
    "    #    'kernel': ['poly'],\n",
    "    #    'C': np.logspace(-2, 2, 10),\n",
    "    #    'tol': np.logspace(-5, -1, 10),\n",
    "    #    'degree': [2, 3, 4],\n",
    "    #    'max_iter': [1000]\n",
    "    #},\n",
    "    #{\n",
    "    #    'kernel': ['rbf'],\n",
    "    #    'C': np.logspace(-2, 2, 10),\n",
    "    #    'gamma': np.logspace(-2, 1, 10),\n",
    "    #    'max_iter': [-1]\n",
    "    #},\n",
    "    #{\n",
    "    #    'kernel': ['sigmoid'],\n",
    "    #    'C': np.logspace(-2, 2, 10),\n",
    "    #    'gamma': np.logspace(-2, 1, 10),\n",
    "    #    'coef0': np.linspace(-1, 1, 10),\n",
    "    #    'max_iter': [-1]\n",
    "    #}\n",
    "]\n",
    "\n",
    "n_iter = 50  # Reduced for demonstration\n",
    "\n",
    "best_accuracy = 0\n",
    "best_params = None\n",
    "\n",
    "start_time = time.time()\n",
    "\n",
    "all_sampled_params = []\n",
    "for params in param_distributions:\n",
    "    sampler = ParameterSampler(params, n_iter=n_iter, random_state=42)\n",
    "    sampled_params = list(sampler)\n",
    "    all_sampled_params.extend(sampled_params)\n",
    "\n",
    "# Create a single SVC instance outside the loop\n",
    "clf = SVC()  # Use SVC\n",
    "\n",
    "for params in all_sampled_params:\n",
    "    try:\n",
    "        clf.set_params(**params)\n",
    "        clf.fit(train_set, train_labels)\n",
    "        predictions = clf.predict(test_set)\n",
    "        accuracy = accuracy_score(test_labels, predictions)\n",
    "\n",
    "        if accuracy > best_accuracy:\n",
    "            best_accuracy = accuracy\n",
    "            best_params = params\n",
    "    except ValueError as e:\n",
    "        print(f\"Skipping invalid parameter combination: {params}\")\n",
    "        print(f\"Error: {e}\")\n",
    "\n",
    "\n",
    "end_time = time.time()\n",
    "\n",
    "print(f\"Best parameters: {best_params}\")\n",
    "print(f\"Best accuracy: {best_accuracy}\")\n",
    "print(f\"Time taken: {end_time - start_time:.2f} seconds\")\n",
    "\n",
    "# Train the final model with the best parameters on the full dataset\n",
    "best_model = SVC(**best_params)  # Use SVC\n",
    "best_model.fit(train_set, train_labels)  # Fit on train data\n",
    "test_predictions = best_model.predict(test_set)\n",
    "test_accuracy = accuracy_score(test_labels, test_predictions)  # Evaluate on test data\n",
    "print(f\"Test accuracy with best model: {test_accuracy}\")"
   ]
  },
  {
   "cell_type": "markdown",
   "id": "c39eadda",
   "metadata": {},
   "source": [
    "5. Mit ParameterSampler haben wir einige gute Parameter gefunden\n",
    "6. Im naechsten schritt wollen wir nun mit einem ParameterGrid unsere Hyperparameter weiter verbessern\n",
    "\n",
    "- Best Parameters Found:\n",
    "    - penalty: l2\n",
    "    - max_iter: 683\n",
    "    - loss: hinge\n",
    "    - linesearch_max_iter: 261\n",
    "    - class_weight: balanced\n",
    "    - C: 4.941\n",
    "  \n",
    " - Model Performance:\n",
    "    - Validation Accuracy: 74.03%\n",
    "    - Test Accuracy: 74.03%\n",
    "  \n",
    "  Training Time: 21.55 seconds"
   ]
  },
  {
   "cell_type": "code",
   "execution_count": null,
   "id": "09520c97",
   "metadata": {},
   "outputs": [
    {
     "data": {
      "text/plain": [
       "['../Data/Models/SVM/lin_reg_para_grid.pkl']"
      ]
     },
     "execution_count": 11,
     "metadata": {},
     "output_type": "execute_result"
    }
   ],
   "source": [
    "param_grid = {\n",
    "    'C': [4.93, 4.939, 4.94, 4.941, 4.942, 4.95, 4.96],\n",
    "    'class_weight': ['balanced'],\n",
    "    'max_iter': [680, 681, 682, 683, 684, 685, 670],\n",
    "    'linesearch_max_iter': [250, 255, 259, 260, 261, 262, 265, 270],\n",
    "    'penalty': ['l2'],\n",
    "    'loss': ['hinge'],\n",
    "}\n",
    "\n",
    "best_accuracy = 0\n",
    "best_params = None\n",
    "\n",
    "start_time = time.time()\n",
    "\n",
    "for params in ParameterGrid(param_grid):\n",
    "    clf.set_params(**params)\n",
    "    clf.fit(train_set, train_labels)\n",
    "    predictions = clf.predict(test_set)\n",
    "    accuracy = accuracy_score(test_labels.get(), predictions)\n",
    "\n",
    "    if accuracy > best_accuracy:\n",
    "        best_accuracy = accuracy\n",
    "        best_params = params    \n",
    "\n",
    "end_time = time.time()\n",
    "\n",
    "best_model = LinearSVC(**best_params)\n",
    "best_model.fit(train_set, train_labels)\n",
    "test_predictions = best_model.predict(test_set)\n",
    "\n",
    "test_accuracy = accuracy_score(test_labels, test_predictions)\n",
    "\n",
    "joblib.dump(best_model, MODELPATH + 'SVM_para_grid.pkl')"
   ]
  },
  {
   "cell_type": "code",
   "execution_count": 12,
   "id": "8831b481",
   "metadata": {},
   "outputs": [
    {
     "name": "stdout",
     "output_type": "stream",
     "text": [
      "\n",
      "==================================================\n",
      "GRID SEARCH RESULTS\n",
      "==================================================\n",
      "\n",
      "Best Parameters Found:\n",
      "  C: 4.93\n",
      "  class_weight: balanced\n",
      "  linesearch_max_iter: 250\n",
      "  loss: hinge\n",
      "  max_iter: 680\n",
      "  penalty: l2\n",
      "\n",
      "Model Performance:\n",
      "  Validation Accuracy: 74.03%\n",
      "  Test Accuracy: 74.03%\n",
      "\n",
      "Training Time: 18.28 seconds\n",
      "==================================================\n"
     ]
    }
   ],
   "source": [
    "print(\"\\n\" + \"=\"*50)\n",
    "print(\"GRID SEARCH RESULTS\")\n",
    "print(\"=\"*50)\n",
    "print(\"\\nBest Parameters Found:\")\n",
    "for param, value in best_params.items():\n",
    "    print(f\"  {param}: {value}\")\n",
    "\n",
    "print(\"\\nModel Performance:\")\n",
    "print(f\"  Validation Accuracy: {best_accuracy*100:.2f}%\")\n",
    "\n",
    "print(f\"  Test Accuracy: {test_accuracy*100:.2f}%\")\n",
    "print(f\"\\nTraining Time: {end_time - start_time:.2f} seconds\")\n",
    "print(\"=\"*50)"
   ]
  },
  {
   "cell_type": "markdown",
   "id": "131bbc59",
   "metadata": {},
   "source": [
    "Wir haben zwar bessere Hyperparameter gefunden, jedoch ist unser Model nicht besser oder Schlechter geworden:\n",
    "\n",
    "- Best Parameters Found:\n",
    "  - C: 4.93\n",
    "  - class_weight: balanced\n",
    "  - linesearch_max_iter: 250\n",
    "  - loss: hinge\n",
    "  - max_iter: 680\n",
    "  - penalty: l2\n",
    "\n",
    "- Model Performance:\n",
    "  - **Validation Accuracy: 74.03%**\n",
    "  - **Test Accuracy: 74.03%**\n",
    "\n",
    "Training Time: 19.51 seconds\n"
   ]
  },
  {
   "cell_type": "markdown",
   "id": "d78b5275",
   "metadata": {},
   "source": [
    "# Cross Validation\n",
    "\n",
    "Wir haben ein wichtiges tool zum verbessern unseres Modells noch nicht betrachtet,\n",
    "mit den bissherigen Hyperparameter Tuning methode haben wir unser Model schon etwas verbessern koennen,\n",
    "aber um das tuning vollausschoepfen zu koennen muessen wir noch Cross Validation verwenden.\n",
    "\n",
    "Im naechten schritten fangen wir nochmal damti an die Parameter zufaellig zu waehlen, dieses mal benutzen wir aber zusetzlich noch Cross Validation"
   ]
  },
  {
   "cell_type": "code",
   "execution_count": 1,
   "id": "5080b404",
   "metadata": {},
   "outputs": [
    {
     "ename": "NameError",
     "evalue": "name 'np' is not defined",
     "output_type": "error",
     "traceback": [
      "\u001b[0;31m---------------------------------------------------------------------------\u001b[0m",
      "\u001b[0;31mNameError\u001b[0m                                 Traceback (most recent call last)",
      "Cell \u001b[0;32mIn[1], line 2\u001b[0m\n\u001b[1;32m      1\u001b[0m param_distributions \u001b[38;5;241m=\u001b[39m {\n\u001b[0;32m----> 2\u001b[0m     \u001b[38;5;124m'\u001b[39m\u001b[38;5;124mC\u001b[39m\u001b[38;5;124m'\u001b[39m: \u001b[43mnp\u001b[49m\u001b[38;5;241m.\u001b[39mlogspace(\u001b[38;5;241m-\u001b[39m\u001b[38;5;241m2\u001b[39m, \u001b[38;5;241m2\u001b[39m, \u001b[38;5;241m50\u001b[39m),\n\u001b[1;32m      3\u001b[0m     \u001b[38;5;124m'\u001b[39m\u001b[38;5;124mclass_weight\u001b[39m\u001b[38;5;124m'\u001b[39m: [\u001b[38;5;28;01mNone\u001b[39;00m, \u001b[38;5;124m'\u001b[39m\u001b[38;5;124mbalanced\u001b[39m\u001b[38;5;124m'\u001b[39m],\n\u001b[1;32m      4\u001b[0m     \u001b[38;5;124m'\u001b[39m\u001b[38;5;124mmax_iter\u001b[39m\u001b[38;5;124m'\u001b[39m: np\u001b[38;5;241m.\u001b[39mlinspace(\u001b[38;5;241m100\u001b[39m, \u001b[38;5;241m1000\u001b[39m, \u001b[38;5;241m10\u001b[39m),\n\u001b[1;32m      5\u001b[0m     \u001b[38;5;124m'\u001b[39m\u001b[38;5;124mlinesearch_max_iter\u001b[39m\u001b[38;5;124m'\u001b[39m: np\u001b[38;5;241m.\u001b[39mlinspace(\u001b[38;5;241m50\u001b[39m, \u001b[38;5;241m1000\u001b[39m, \u001b[38;5;241m10\u001b[39m),\n\u001b[1;32m      6\u001b[0m     \u001b[38;5;124m'\u001b[39m\u001b[38;5;124mpenalty\u001b[39m\u001b[38;5;124m'\u001b[39m: [\u001b[38;5;124m'\u001b[39m\u001b[38;5;124ml1\u001b[39m\u001b[38;5;124m'\u001b[39m, \u001b[38;5;124m'\u001b[39m\u001b[38;5;124ml2\u001b[39m\u001b[38;5;124m'\u001b[39m],\n\u001b[1;32m      7\u001b[0m     \u001b[38;5;124m'\u001b[39m\u001b[38;5;124mloss\u001b[39m\u001b[38;5;124m'\u001b[39m: [\u001b[38;5;124m'\u001b[39m\u001b[38;5;124mhinge\u001b[39m\u001b[38;5;124m'\u001b[39m, \u001b[38;5;124m'\u001b[39m\u001b[38;5;124msquared_hinge\u001b[39m\u001b[38;5;124m'\u001b[39m],\n\u001b[1;32m      8\u001b[0m }\n\u001b[1;32m     10\u001b[0m rnd_lin_reg \u001b[38;5;241m=\u001b[39m RandomizedSearchCV(LinearSVC(), param_distributions, n_iter\u001b[38;5;241m=\u001b[39m\u001b[38;5;241m500\u001b[39m, random_state\u001b[38;5;241m=\u001b[39m\u001b[38;5;241m42\u001b[39m, cv\u001b[38;5;241m=\u001b[39m\u001b[38;5;241m5\u001b[39m, n_jobs\u001b[38;5;241m=\u001b[39m\u001b[38;5;241m-\u001b[39m\u001b[38;5;241m1\u001b[39m)\n\u001b[1;32m     11\u001b[0m rnd_lin_reg\u001b[38;5;241m.\u001b[39mfit(train_set\u001b[38;5;241m.\u001b[39mget(), train_labels\u001b[38;5;241m.\u001b[39mget())\n",
      "\u001b[0;31mNameError\u001b[0m: name 'np' is not defined"
     ]
    }
   ],
   "source": [
    "param_distributions = {\n",
    "    'C': np.logspace(-2, 2, 50),\n",
    "    'class_weight': [None, 'balanced'],\n",
    "    'max_iter': np.linspace(100, 1000, 10),\n",
    "    'linesearch_max_iter': np.linspace(50, 1000, 10),\n",
    "    'penalty': ['l1', 'l2'],\n",
    "    'loss': ['hinge', 'squared_hinge'],\n",
    "}\n",
    "\n",
    "rnd_lin_reg = RandomizedSearchCV(LinearSVC(), param_distributions, n_iter=500, random_state=42, cv=5, n_jobs=-1)\n",
    "rnd_lin_reg.fit(train_set.get(), train_labels.get())"
   ]
  },
  {
   "cell_type": "code",
   "execution_count": null,
   "id": "036867c7",
   "metadata": {},
   "outputs": [],
   "source": [
    "best_model = rnd_lin_reg.best_estimator_\n",
    "test_predictions = best_model.predict(test_set)\n",
    "test_accuracy = accuracy_score(test_labels, test_predictions)\n",
    "\n",
    "joblib.dump(best_model, MODELPATH + 'SVM_rnd_srch_CV.pkl')"
   ]
  },
  {
   "cell_type": "code",
   "execution_count": null,
   "id": "8b458367",
   "metadata": {},
   "outputs": [],
   "source": [
    "print(\"\\n\" + \"=\"*50)\n",
    "print(\"RANDOMIZED SEARCH CV RESULTS\")\n",
    "print(\"=\"*50)\n",
    "print(\"\\nBest Parameters Found:\")\n",
    "for param, value in best_model.get_params().items():\n",
    "    print(f\"  {param}: {value}\")\n",
    "\n",
    "print(\"\\nModel Performance:\")\n",
    "print(f\"  Validation Accuracy: {rnd_lin_reg.best_score_*100:.2f}%\")\n",
    "print(f\"  Test Accuracy: {test_accuracy*100:.2f}%\")\n",
    "print(\"=\"*50)"
   ]
  }
 ],
 "metadata": {
  "kernelspec": {
   "display_name": "rapids-24.12",
   "language": "python",
   "name": "python3"
  },
  "language_info": {
   "codemirror_mode": {
    "name": "ipython",
    "version": 3
   },
   "file_extension": ".py",
   "mimetype": "text/x-python",
   "name": "python",
   "nbconvert_exporter": "python",
   "pygments_lexer": "ipython3",
   "version": "3.12.8"
  }
 },
 "nbformat": 4,
 "nbformat_minor": 5
}
