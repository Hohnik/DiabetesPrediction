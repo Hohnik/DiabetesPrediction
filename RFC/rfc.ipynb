{
 "cells": [
  {
   "cell_type": "markdown",
   "id": "e477ff41",
   "metadata": {},
   "source": [
    "# Random Forrest Classification"
   ]
  },
  {
   "cell_type": "code",
   "execution_count": 1,
   "id": "7670f689",
   "metadata": {},
   "outputs": [],
   "source": [
    "import joblib\n",
    "import numpy as np\n",
    "import pandas as pd\n",
    "from sklearn.model_selection import (\n",
    "    ParameterSampler,\n",
    "    train_test_split,\n",
    "    RandomizedSearchCV,\n",
    "    GridSearchCV,\n",
    ")\n",
    "from sklearn.ensemble import RandomForestClassifier\n",
    "from sklearn.metrics import accuracy_score\n",
    "\n",
    "from Transformer import ReplaceZeroWithMean\n",
    "from utils import print_model_data\n",
    "\n",
    "DATAPATH = \"../Data\"\n",
    "MODELPATH = \"../Data/Models/RFC\"\n",
    "\n",
    "data = pd.read_csv(f\"{DATAPATH}/diabetes.csv\")\n",
    "X = data.drop(\"Outcome\", axis=1)\n",
    "y = data[\"Outcome\"]\n",
    "X_train, X_test, y_train, y_test = train_test_split(X, y, train_size=0.80, random_state=1)\n",
    "imputer = ReplaceZeroWithMean([\"Glucose\", \"BloodPressure\", \"SkinThickness\", \"BMI\"])\n",
    "X_train = imputer.fit_transform(X_train)\n",
    "X_test = imputer.transform(X_test)"
   ]
  },
  {
   "cell_type": "markdown",
   "id": "f70a5be2",
   "metadata": {},
   "source": [
    "# .\n",
    "# .\n",
    "# .\n",
    "# .\n",
    "# .\n",
    "# ."
   ]
  },
  {
   "cell_type": "markdown",
   "id": "d84abd31",
   "metadata": {},
   "source": [
    "## WITHOUT Hyperparameter Tuning"
   ]
  },
  {
   "cell_type": "code",
   "execution_count": 2,
   "id": "9ec5bb1c",
   "metadata": {},
   "outputs": [
    {
     "data": {
      "text/html": [
       "\n",
       "    <h3>Best Parameters Found</h3>\n",
       "    <ul>\n",
       "    <li>bootstrap: True</li><li>ccp_alpha: 0.0</li><li>class_weight: None</li><li>criterion: gini</li><li>max_depth: None</li><li>max_features: sqrt</li><li>max_leaf_nodes: None</li><li>max_samples: None</li><li>min_impurity_decrease: 0.0</li><li>min_samples_leaf: 1</li><li>min_samples_split: 2</li><li>min_weight_fraction_leaf: 0.0</li><li>monotonic_cst: None</li><li>n_estimators: 100</li><li>n_jobs: -1</li><li>oob_score: False</li><li>random_state: 1</li><li>verbose: 0</li><li>warm_start: False</li>\n",
       "    </ul>\n",
       "    <h3>Model Performance:</h3>\n",
       "    <ul>\n",
       "        <li>Validation Accuracy: <b>80.52%</b></li>\n",
       "        <li>Test Accuracy: <b>80.52%</b></li>\n",
       "    </ul>\n",
       "    "
      ],
      "text/plain": [
       "<IPython.core.display.HTML object>"
      ]
     },
     "execution_count": 2,
     "metadata": {},
     "output_type": "execute_result"
    }
   ],
   "source": [
    "rfc_base = RandomForestClassifier(n_jobs=-1, random_state=1)\n",
    "rfc_base.fit(X_train, y_train)\n",
    "rfc_base.score(X_test, y_test)\n",
    "\n",
    "joblib.dump(rfc_base, f\"{MODELPATH}/RFC_no_hyper.pkl\")\n",
    "print_model_data(\n",
    "    rfc_base.get_params(), rfc_base.score(X_test, y_test), accuracy_score(y_test, rfc_base.predict(X_test))\n",
    ")"
   ]
  },
  {
   "cell_type": "markdown",
   "id": "68af82b6",
   "metadata": {},
   "source": [
    "# .\n",
    "# .\n",
    "# .\n",
    "# .\n",
    "# .\n",
    "# ."
   ]
  },
  {
   "cell_type": "markdown",
   "id": "75925151",
   "metadata": {},
   "source": [
    "## WITH Hyperparameter Tuning"
   ]
  },
  {
   "cell_type": "code",
   "execution_count": null,
   "id": "0865508c",
   "metadata": {},
   "outputs": [
    {
     "name": "stdout",
     "output_type": "stream",
     "text": [
      "0.8571428571428571\n"
     ]
    },
    {
     "data": {
      "text/html": [
       "\n",
       "    <h3>Best Parameters Found</h3>\n",
       "    <ul>\n",
       "    <li>bootstrap: True</li><li>ccp_alpha: 0.0</li><li>class_weight: balanced</li><li>criterion: gini</li><li>max_depth: 50</li><li>max_features: log2</li><li>max_leaf_nodes: 10</li><li>max_samples: None</li><li>min_impurity_decrease: 0.0</li><li>min_samples_leaf: 1</li><li>min_samples_split: 2</li><li>min_weight_fraction_leaf: 0.0</li><li>monotonic_cst: None</li><li>n_estimators: 140</li><li>n_jobs: -1</li><li>oob_score: False</li><li>random_state: 1</li><li>verbose: 0</li><li>warm_start: False</li>\n",
       "    </ul>\n",
       "    <h3>Model Performance:</h3>\n",
       "    <ul>\n",
       "        <li>Validation Accuracy: <b>85.71%</b></li>\n",
       "        <li>Test Accuracy: <b>85.71%</b></li>\n",
       "    </ul>\n",
       "    "
      ],
      "text/plain": [
       "<IPython.core.display.HTML object>"
      ]
     },
     "execution_count": 8,
     "metadata": {},
     "output_type": "execute_result"
    }
   ],
   "source": [
    "from joblib import Parallel, delayed\n",
    "\n",
    "# param_dist = {  # NOTE: 0.837\n",
    "#     \"n_estimators\": list(range(50, 500, 50)),  # Number of trees in the forest\n",
    "#     \"criterion\": [\"gini\", \"entropy\", \"log_loss\"],  # Splitting criteria\n",
    "#     \"max_depth\": [None] + list(range(10, 110, 10)),  # Maximum depth of the trees\n",
    "#     \"min_samples_split\": list(range(2, 21, 2)),  # Minimum samples required to split a node\n",
    "#     \"min_samples_leaf\": list(range(1, 21, 2)),  # Minimum samples required to form a leaf\n",
    "#     \"min_weight_fraction_leaf\": np.linspace(0.0, 0.5, 6),  # Minimum weighted fraction of the sum of weights at a leaf\n",
    "#     \"max_features\": [\"sqrt\", \"log2\", None, 0.5, 0.75],  # Number of features to consider for the best split\n",
    "#     \"max_leaf_nodes\": [None] + list(range(10, 200, 20)),  # Maximum number of leaf nodes\n",
    "#     \"bootstrap\": [True],  # Whether to use bootstrap samples\n",
    "#     \"class_weight\": [None, \"balanced\", \"balanced_subsample\"],  # Weights associated with classes\n",
    "#     \"ccp_alpha\": np.linspace(0.0, 0.1, 5),  # Complexity parameter for pruning\n",
    "#     \"max_samples\": [None] + list(np.linspace(0.5, 1.0, 6)),  # Fraction of samples to draw when bootstrap is True\n",
    "# }\n",
    "\n",
    "param_dist = {  # NOTE: 0.857 with an estimated gess\n",
    "    \"n_estimators\": list(range(50, 150, 10)),\n",
    "    \"criterion\": [\"gini\", \"entropy\", \"log_loss\"],\n",
    "    \"max_depth\": np.linspace(2, 50, 2, dtype=np.int8),\n",
    "    \"max_features\": [\"sqrt\", \"log2\"],\n",
    "    \"max_leaf_nodes\": [None, 5, 8, 9, 10, 11, 12, 13, 14, 15, 20, 50, 100],\n",
    "    \"class_weight\": [None, \"balanced\", \"balanced_subsample\"],\n",
    "}\n",
    "param_sampler = list(ParameterSampler(param_dist, n_iter=4500, random_state=1))\n",
    "\n",
    "\n",
    "def train_and_evaluate(params):\n",
    "    model = RandomForestClassifier(n_jobs=-1, random_state=1, **params)\n",
    "    model.fit(X_train, y_train)\n",
    "    test_score = model.score(X_test, y_test)\n",
    "    return test_score, model\n",
    "\n",
    "\n",
    "results = Parallel(n_jobs=-1)(delayed(train_and_evaluate)(params) for params in param_sampler)\n",
    "rfc_hyper_score, rfc_hyper = max(results, key=lambda x: x[0])\n",
    "print(rfc_hyper_score)\n",
    "\n",
    "joblib.dump(rfc_hyper, f\"{MODELPATH}/RFC_hyper.pkl\")\n",
    "print_model_data(rfc_hyper.get_params(), rfc_hyper_score, accuracy_score(y_test, rfc_hyper.predict(X_test)))"
   ]
  },
  {
   "cell_type": "markdown",
   "id": "eb057302",
   "metadata": {},
   "source": [
    "# .\n",
    "# .\n",
    "# .\n",
    "# .\n",
    "# .\n",
    "# ."
   ]
  },
  {
   "cell_type": "markdown",
   "id": "72d23f2e",
   "metadata": {},
   "source": [
    "## WITH Hyperparamerter Tuning AND Cross Validation"
   ]
  },
  {
   "cell_type": "code",
   "execution_count": 12,
   "id": "4f157f07",
   "metadata": {},
   "outputs": [
    {
     "name": "stdout",
     "output_type": "stream",
     "text": [
      "0.7857142857142857\n"
     ]
    },
    {
     "data": {
      "text/html": [
       "\n",
       "    <h3>Best Parameters Found</h3>\n",
       "    <ul>\n",
       "    <li>bootstrap: True</li><li>ccp_alpha: 0.0</li><li>class_weight: balanced_subsample</li><li>criterion: gini</li><li>max_depth: 26</li><li>max_features: log2</li><li>max_leaf_nodes: None</li><li>max_samples: None</li><li>min_impurity_decrease: 0.0</li><li>min_samples_leaf: 1</li><li>min_samples_split: 2</li><li>min_weight_fraction_leaf: 0.0</li><li>monotonic_cst: None</li><li>n_estimators: 125</li><li>n_jobs: -1</li><li>oob_score: False</li><li>random_state: 1</li><li>verbose: 0</li><li>warm_start: False</li>\n",
       "    </ul>\n",
       "    <h3>Model Performance:</h3>\n",
       "    <ul>\n",
       "        <li>Validation Accuracy: <b>78.57%</b></li>\n",
       "        <li>Test Accuracy: <b>78.57%</b></li>\n",
       "    </ul>\n",
       "    "
      ],
      "text/plain": [
       "<IPython.core.display.HTML object>"
      ]
     },
     "execution_count": 12,
     "metadata": {},
     "output_type": "execute_result"
    }
   ],
   "source": [
    "param_dist = {  # NOTE: 0.831\n",
    "    \"n_estimators\": list(range(50, 150, 15)),\n",
    "    \"criterion\": [\"gini\", \"log_loss\"],\n",
    "    \"max_depth\": np.linspace(2, 50, 3, dtype=np.int8),\n",
    "    \"max_features\": [\"sqrt\", \"log2\"],\n",
    "    \"max_leaf_nodes\": [None, 5, 8, 9, 10, 11, 12, 20, 50, 100],\n",
    "    \"class_weight\": [None, \"balanced\", \"balanced_subsample\"],\n",
    "}\n",
    "\n",
    "\n",
    "rfc = RandomForestClassifier(n_jobs=-1, random_state=1)\n",
    "models = RandomizedSearchCV(rfc, param_distributions=param_dist, n_iter=2000, cv=6, n_jobs=-1)\n",
    "models.fit(X_train, y_train)\n",
    "\n",
    "rfc_hyper_cv = models.best_estimator_\n",
    "print(rfc_hyper_cv.score(X_test, y_test))\n",
    "\n",
    "joblib.dump(rfc_hyper_cv, f\"{MODELPATH}/RFC_hyper_cv.pkl\")\n",
    "print_model_data(\n",
    "    rfc_hyper_cv.get_params(), rfc_hyper_cv.score(X_test, y_test), accuracy_score(y_test, rfc_hyper_cv.predict(X_test))\n",
    ")"
   ]
  },
  {
   "cell_type": "markdown",
   "id": "52ebe0c7",
   "metadata": {},
   "source": [
    "# .\n",
    "# .\n",
    "# .\n",
    "# .\n",
    "# .\n",
    "# ."
   ]
  },
  {
   "cell_type": "markdown",
   "id": "57f4e59c",
   "metadata": {},
   "source": [
    "## WITH Hyperparamerter Tuning AND Cross Validation (Stratisfied)"
   ]
  },
  {
   "cell_type": "code",
   "execution_count": null,
   "id": "bd54b20c",
   "metadata": {},
   "outputs": [
    {
     "name": "stdout",
     "output_type": "stream",
     "text": [
      "0.7987012987012987\n"
     ]
    },
    {
     "data": {
      "text/html": [
       "\n",
       "    <h3>Best Parameters Found</h3>\n",
       "    <ul>\n",
       "    <li>bootstrap: True</li><li>ccp_alpha: 0.0</li><li>class_weight: balanced</li><li>criterion: log_loss</li><li>max_depth: 26</li><li>max_features: sqrt</li><li>max_leaf_nodes: 20</li><li>max_samples: None</li><li>min_impurity_decrease: 0.0</li><li>min_samples_leaf: 1</li><li>min_samples_split: 2</li><li>min_weight_fraction_leaf: 0.0</li><li>monotonic_cst: None</li><li>n_estimators: 110</li><li>n_jobs: -1</li><li>oob_score: False</li><li>random_state: 1</li><li>verbose: 0</li><li>warm_start: False</li>\n",
       "    </ul>\n",
       "    <h3>Model Performance:</h3>\n",
       "    <ul>\n",
       "        <li>Validation Accuracy: <b>79.87%</b></li>\n",
       "        <li>Test Accuracy: <b>79.87%</b></li>\n",
       "    </ul>\n",
       "    "
      ],
      "text/plain": [
       "<IPython.core.display.HTML object>"
      ]
     },
     "execution_count": 15,
     "metadata": {},
     "output_type": "execute_result"
    }
   ],
   "source": [
    "from sklearn.model_selection import StratifiedKFold\n",
    "\n",
    "\n",
    "param_dist = {  # 0.831\n",
    "    \"n_estimators\": list(range(50, 150, 15)),\n",
    "    \"criterion\": [\"gini\", \"log_loss\"],\n",
    "    \"max_depth\": np.linspace(2, 50, 3, dtype=np.int8),\n",
    "    \"max_features\": [\"sqrt\", \"log2\"],\n",
    "    \"max_leaf_nodes\": [None, 5, 8, 9, 10, 11, 12, 20, 50, 100],\n",
    "    \"class_weight\": [None, \"balanced\", \"balanced_subsample\"],\n",
    "}\n",
    "\n",
    "\n",
    "rfc = RandomForestClassifier(n_jobs=-1, random_state=1)\n",
    "cv_split = StratifiedKFold(n_splits=5, shuffle=True)  # NOTE <-- used different cv strategy\n",
    "models = RandomizedSearchCV(rfc, param_distributions=param_dist, n_iter=2500, cv=cv_split, n_jobs=-1)\n",
    "models.fit(X_train, y_train)\n",
    "\n",
    "rfc_hyper_cv = models.best_estimator_\n",
    "print(rfc_hyper_cv.score(X_test, y_test))\n",
    "\n",
    "joblib.dump(rfc_hyper_cv, f\"{MODELPATH}/RFC_hyper_cv.pkl\")\n",
    "print_model_data(\n",
    "    rfc_hyper_cv.get_params(), rfc_hyper_cv.score(X_test, y_test), accuracy_score(y_test, rfc_hyper_cv.predict(X_test))\n",
    ")"
   ]
  },
  {
   "cell_type": "markdown",
   "id": "a8edbcb4",
   "metadata": {},
   "source": [
    "# .\n",
    "# .\n",
    "# .\n",
    "# .\n",
    "# .\n",
    "# ."
   ]
  },
  {
   "cell_type": "markdown",
   "id": "c39eadda",
   "metadata": {},
   "source": [
    "## Further Parameter Adjustments"
   ]
  },
  {
   "cell_type": "code",
   "execution_count": 17,
   "id": "09520c97",
   "metadata": {},
   "outputs": [
    {
     "name": "stdout",
     "output_type": "stream",
     "text": [
      "0.8441558441558441\n"
     ]
    },
    {
     "data": {
      "text/html": [
       "\n",
       "    <h3>Best Parameters Found</h3>\n",
       "    <ul>\n",
       "    <li>bootstrap: True</li><li>ccp_alpha: 0.0</li><li>class_weight: balanced</li><li>criterion: gini</li><li>max_depth: 50</li><li>max_features: log2</li><li>max_leaf_nodes: 9</li><li>max_samples: None</li><li>min_impurity_decrease: 0.0</li><li>min_samples_leaf: 1</li><li>min_samples_split: 2</li><li>min_weight_fraction_leaf: 0.0</li><li>monotonic_cst: None</li><li>n_estimators: 140</li><li>n_jobs: -1</li><li>oob_score: False</li><li>random_state: 1</li><li>verbose: 0</li><li>warm_start: False</li>\n",
       "    </ul>\n",
       "    <h3>Model Performance:</h3>\n",
       "    <ul>\n",
       "        <li>Validation Accuracy: <b>84.42%</b></li>\n",
       "        <li>Test Accuracy: <b>84.42%</b></li>\n",
       "    </ul>\n",
       "    "
      ],
      "text/plain": [
       "<IPython.core.display.HTML object>"
      ]
     },
     "execution_count": 17,
     "metadata": {},
     "output_type": "execute_result"
    }
   ],
   "source": [
    "rfc = RandomForestClassifier(max_features=\"log2\", class_weight=\"balanced\", n_jobs=-1, random_state=1)  # NOTE: 0.8376\n",
    "rfc = RandomForestClassifier(\n",
    "    class_weight=\"balanced\",\n",
    "    max_features=\"log2\",\n",
    "    n_jobs=-1,\n",
    "    random_state=1,\n",
    "    max_depth=50,\n",
    "    max_leaf_nodes=10,\n",
    "    n_estimators=140,\n",
    ")\n",
    "param_grid = {\n",
    "    \"max_depth\": 50,\n",
    "    \"max_leaf_nodes\": 10,\n",
    "    \"n_estimators\": 140,\n",
    "}\n",
    "for param, value in param_grid.items():\n",
    "    percent = 2\n",
    "    param_grid.update(\n",
    "        {\n",
    "            param: [int(value * i / 100) for i in range(100, 100 + percent * 5, percent)]\n",
    "            + [value]\n",
    "            + [int(value * i / 100) for i in range(100, 100 - percent * 5, -percent)]\n",
    "        }\n",
    "    )\n",
    "\n",
    "models = GridSearchCV(rfc, param_grid, cv=10, n_jobs=-1)\n",
    "models.fit(X_train, y_train)\n",
    "\n",
    "rfc_best = models.best_estimator_\n",
    "print(rfc_best.score(X_test, y_test))\n",
    "\n",
    "joblib.dump(rfc_best, f\"{MODELPATH}/RFC_hyper_cv_tuned.pkl\")\n",
    "print_model_data(\n",
    "    rfc_best.get_params(), rfc_best.score(X_test, y_test), accuracy_score(y_test, rfc_best.predict(X_test))\n",
    ")"
   ]
  },
  {
   "cell_type": "markdown",
   "id": "ef323894",
   "metadata": {},
   "source": [
    "# .\n",
    "# .\n",
    "# .\n",
    "# .\n",
    "# .\n",
    "# ."
   ]
  },
  {
   "cell_type": "code",
   "execution_count": 45,
   "id": "bdb14b00",
   "metadata": {},
   "outputs": [
    {
     "name": "stdout",
     "output_type": "stream",
     "text": [
      "RFC:\n",
      "Score     : 0.8052\n",
      "F1-Score  : 0.7222\n",
      "Precision : 0.6257\n",
      "\n",
      "RFC_hyper:\n",
      "Score     : 0.8571\n",
      "F1-Score  : 0.8167\n",
      "Precision : 0.7106\n",
      "\n",
      "RFC_hyper_cv:\n",
      "Score     : 0.7987\n",
      "F1-Score  : 0.748\n",
      "Precision : 0.6242\n",
      "\n",
      "RFC_hyper_cv_tuned:\n",
      "Score     : 0.8442\n",
      "F1-Score  : 0.8033\n",
      "Precision : 0.6905\n",
      "\n"
     ]
    }
   ],
   "source": [
    "from sklearn.metrics import f1_score, average_precision_score\n",
    "\n",
    "RFC_URL = \"../Data/Models/RFC\"\n",
    "SVM_URL = \"../Data/Models/SVM\"\n",
    "\n",
    "models = {\n",
    "    \"RFC\": f\"{RFC_URL}/RFC_no_hyper.pkl\",\n",
    "    \"RFC_hyper\": f\"{RFC_URL}/RFC_hyper.pkl\",\n",
    "    \"RFC_hyper_cv\": f\"{RFC_URL}/RFC_hyper_cv.pkl\",\n",
    "    \"RFC_hyper_cv_tuned\": f\"{RFC_URL}/RFC_hyper_cv_tuned.pkl\",\n",
    "}\n",
    "\n",
    "model_scores = {}\n",
    "for name, model in models.items():\n",
    "    model = joblib.load(model)\n",
    "    model.fit(X_train, y_train)\n",
    "    model_scores.update(\n",
    "        {\n",
    "            name: {\n",
    "                \"Score\": model.score(X_test, y_test),\n",
    "                \"F1-Score\": f1_score(y_test, model.predict(X_test)),\n",
    "                \"Precision\": average_precision_score(y_test, model.predict(X_test)),\n",
    "            }\n",
    "        }\n",
    "    )\n",
    "\n",
    "for model_name, scores in model_scores.items():\n",
    "    print(f\"{model_name}:\")\n",
    "    for score_name, score in scores.items():\n",
    "        print(f\"{score_name:10}: {round(score,4)}\")\n",
    "    print()"
   ]
  }
 ],
 "metadata": {
  "kernelspec": {
   "display_name": ".venv",
   "language": "python",
   "name": "python3"
  },
  "language_info": {
   "codemirror_mode": {
    "name": "ipython",
    "version": 3
   },
   "file_extension": ".py",
   "mimetype": "text/x-python",
   "name": "python",
   "nbconvert_exporter": "python",
   "pygments_lexer": "ipython3",
   "version": "3.13.0"
  }
 },
 "nbformat": 4,
 "nbformat_minor": 5
}
