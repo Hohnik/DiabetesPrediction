{
 "cells": [
  {
   "cell_type": "code",
   "execution_count": 3,
   "metadata": {},
   "outputs": [
    {
     "name": "stdout",
     "output_type": "stream",
     "text": [
      "Lable Balance ->  268 | 500\n",
      "\n",
      "Features Zero\\NaN -> \n",
      "Pregnancies                 111\n",
      "Glucose                       5\n",
      "BloodPressure                35\n",
      "SkinThickness               227\n",
      "Insulin                     374\n",
      "BMI                          11\n",
      "DiabetesPedigreeFunction      0\n",
      "Age                           0\n",
      "dtype: int64\n"
     ]
    }
   ],
   "source": [
    "import pandas as pd\n",
    "from sklearn.model_selection import train_test_split\n",
    "from Transformer import ReplaceZeroWithMean\n",
    "import joblib\n",
    "\n",
    "\n",
    "RFC_URL = \"Data/Models/RFC\"\n",
    "SVM_URL = \"Data/Models/SVM\"\n",
    "\n",
    "models = {\n",
    "    \"RFC\": f\"{RFC_URL}/RFC_no_hyper.pkl\",\n",
    "    \"RFC_hyper\": f\"{RFC_URL}/RFC_hyper.pkl\",\n",
    "    \"RFC_hyper_cv\": f\"{RFC_URL}/RFC_hyper_cv.pkl\",\n",
    "    \"RFC_hyper_cv_tuned\": f\"{RFC_URL}/RFC_hyper_cv_tuned.pkl\",\n",
    "    # \"SVM\": f\"{SVM_URL}/SVM_no_hyper.pkl\",\n",
    "    # \"SVM_para_grid\": f\"{SVM_URL}/SVM_para_grid.pkl\",\n",
    "    # \"SVM_para_sampl\": f\"{SVM_URL}/SVM_para_sample.pkl\",\n",
    "}\n",
    "\n",
    "\n",
    "data = pd.read_csv(\"./Data/diabetes.csv\")\n",
    "print(\"Lable Balance -> \", (data[\"Outcome\"] == 1).sum(), \"|\", (data[\"Outcome\"] == 0).sum())\n",
    "print()\n",
    "print(\"Features Zero\\\\NaN -> \\n\", data.drop(\"Outcome\", axis=1).where(data == 0).count(axis=0), sep=\"\")"
   ]
  },
  {
   "cell_type": "code",
   "execution_count": 4,
   "metadata": {},
   "outputs": [
    {
     "name": "stdout",
     "output_type": "stream",
     "text": [
      "{'RFC': 0.8051948051948052,\n",
      " 'RFC_hyper': 0.8571428571428571,\n",
      " 'RFC_hyper_cv': 0.8311688311688312,\n",
      " 'RFC_hyper_cv_tuned': 0.8376623376623377}\n"
     ]
    }
   ],
   "source": [
    "from pprint import pprint\n",
    "\n",
    "\n",
    "X = data.drop(\"Outcome\", axis=1)\n",
    "y = data[\"Outcome\"]\n",
    "X_train, X_test, y_train, y_test = train_test_split(X, y, train_size=0.80, random_state=1)\n",
    "imputer = ReplaceZeroWithMean([\"Glucose\", \"BloodPressure\", \"SkinThickness\", \"BMI\"])\n",
    "X_train = imputer.fit_transform(X_train)\n",
    "X_test = imputer.transform(X_test)\n",
    "\n",
    "scores = {}\n",
    "for name, model in models.items():\n",
    "    model = joblib.load(model)\n",
    "    model.fit(X_train, y_train)\n",
    "    scores.update({name: model.score(X_test, y_test)})\n",
    "\n",
    "pprint(scores)"
   ]
  }
 ],
 "metadata": {
  "kernelspec": {
   "display_name": "base",
   "language": "python",
   "name": "python3"
  },
  "language_info": {
   "codemirror_mode": {
    "name": "ipython",
    "version": 3
   },
   "file_extension": ".py",
   "mimetype": "text/x-python",
   "name": "python",
   "nbconvert_exporter": "python",
   "pygments_lexer": "ipython3",
   "version": "3.10.14"
  }
 },
 "nbformat": 4,
 "nbformat_minor": 2
}
