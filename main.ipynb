{
 "cells": [
  {
   "cell_type": "code",
   "execution_count": null,
   "metadata": {},
   "outputs": [],
   "source": [
    "import pandas as pd\n",
    "import numpy as np\n",
    "from sklearn.model_selection import train_test_split, GridSearchCV\n",
    "from sklearn.ensemble import RandomForestClassifier\n",
    "from sklearn.ensemble import RandomForestRegressor\n",
    "from sklearn.metrics import accuracy_score\n",
    "from Transformer import ReplaceZeroWithMean\n",
    "import matplotlib.pyplot as plt\n",
    "from sklearn.pipeline import Pipeline\n",
    "import joblib\n",
    "\n",
    "MODELPATH = \"Data/Models/RFC/\"\n",
    "\n",
    "data = pd.read_csv(\"./Data/diabetes.csv\")\n",
    "model = RandomForestClassifier(random_state=1)  # or joblib.load(f\"{MODELPATH}/RDF_no_hyper.pkl\")\n",
    "\n",
    "\n",
    "print(\"Lable Balance -> \", (data[\"Outcome\"] == 1).sum(), \"|\", (data[\"Outcome\"] == 0).sum())\n",
    "print()\n",
    "print(\"Features Zero\\\\NaN -> \\n\", data.drop(\"Outcome\", axis=1).where(data == 0).count(axis=0), sep=\"\")"
   ]
  },
  {
   "cell_type": "code",
   "execution_count": null,
   "metadata": {},
   "outputs": [],
   "source": [
    "from pprint import pprint\n",
    "\n",
    "\n",
    "X = data.drop(\"Outcome\", axis=1)\n",
    "y = data[\"Outcome\"]\n",
    "\n",
    "X_train, X_test, y_train, y_test = train_test_split(X, y, train_size=0.80, random_state=1)\n",
    "\n",
    "steps = [\n",
    "    (\"replaces_zeros\", ReplaceZeroWithMean([\"Glucose\", \"BloodPressure\", \"SkinThickness\", \"BMI\"])),\n",
    "    (\"fit_model\", model),\n",
    "]\n",
    "pipeline = Pipeline(steps=steps, verbose=True)\n",
    "\n",
    "\n",
    "pipeline.fit(X_train, y_train)\n",
    "score = pipeline.score(X_test, y_test)\n",
    "print(score)"
   ]
  }
 ],
 "metadata": {
  "kernelspec": {
   "display_name": "base",
   "language": "python",
   "name": "python3"
  },
  "language_info": {
   "codemirror_mode": {
    "name": "ipython",
    "version": 3
   },
   "file_extension": ".py",
   "mimetype": "text/x-python",
   "name": "python",
   "nbconvert_exporter": "python",
   "pygments_lexer": "ipython3",
   "version": "3.10.14"
  }
 },
 "nbformat": 4,
 "nbformat_minor": 2
}
