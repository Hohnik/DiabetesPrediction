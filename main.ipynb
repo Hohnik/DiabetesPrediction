{
 "cells": [
  {
   "cell_type": "code",
   "execution_count": 99,
   "metadata": {},
   "outputs": [
    {
     "name": "stdout",
     "output_type": "stream",
     "text": [
      "Lable Balance ->  268 | 500\n",
      "\n",
      "Features Zero\\NaN -> \n",
      "Pregnancies                 111\n",
      "Glucose                       5\n",
      "BloodPressure                35\n",
      "SkinThickness               227\n",
      "Insulin                     374\n",
      "BMI                          11\n",
      "DiabetesPedigreeFunction      0\n",
      "Age                           0\n",
      "dtype: int64\n"
     ]
    }
   ],
   "source": [
    "import pandas as pd\n",
    "import numpy as np\n",
    "from sklearn.model_selection import train_test_split, GridSearchCV\n",
    "from sklearn.ensemble import RandomForestClassifier\n",
    "from sklearn.ensemble import RandomForestRegressor\n",
    "from sklearn.metrics import accuracy_score\n",
    "import matplotlib.pyplot as plt\n",
    "from sklearn.pipeline import Pipeline\n",
    "import joblib\n",
    "\n",
    "model = \"models/svm_model.joblib\"\n",
    "data = pd.read_csv(\"./diabetes.csv\")\n",
    "\n",
    "\n",
    "print(\"Lable Balance -> \", (data[\"Outcome\"] == 1).sum(), \"|\", (data[\"Outcome\"] == 0).sum())\n",
    "print()\n",
    "print(\"Features Zero\\\\NaN -> \\n\", data.drop(\"Outcome\", axis=1).where(data == 0).count(axis=0), sep=\"\")"
   ]
  },
  {
   "cell_type": "code",
   "execution_count": 100,
   "metadata": {},
   "outputs": [],
   "source": [
    "from sklearn.base import BaseEstimator, TransformerMixin\n",
    "\n",
    "\n",
    "class ReplaceZeroWithMean(BaseEstimator, TransformerMixin):\n",
    "    def __init__(self, columns):\n",
    "        self.columns = columns  # List of columns to transform\n",
    "\n",
    "    def fit(self, X, y=None):\n",
    "        self.means = {\n",
    "            col: (\n",
    "                int(X.loc[X[col] != 0, col].mean())\n",
    "                if isinstance(X, pd.DataFrame)\n",
    "                else np.where(X[:, col] != 0, X[:, col], np.nan).mean()\n",
    "            )\n",
    "            for col in self.columns\n",
    "        }\n",
    "        return self\n",
    "\n",
    "    def transform(self, X, y=None):\n",
    "        X = X.copy()\n",
    "        for col in self.columns:\n",
    "            if isinstance(X, pd.DataFrame):\n",
    "                X.loc[X[col] == 0, col] = self.means[col]\n",
    "            else:\n",
    "                X[X[:, col] == 0, col] = self.means[col]\n",
    "        return X"
   ]
  },
  {
   "cell_type": "code",
   "execution_count": null,
   "metadata": {},
   "outputs": [
    {
     "data": {
      "text/plain": [
       "0.7552083333333334"
      ]
     },
     "execution_count": 101,
     "metadata": {},
     "output_type": "execute_result"
    }
   ],
   "source": [
    "X = data.drop(\"Outcome\", axis=1)\n",
    "y = data[\"Outcome\"]\n",
    "\n",
    "X_train, X_test, y_train, y_test = train_test_split(X, y)\n",
    "\n",
    "steps = [\n",
    "    (\"replaces_zeros\", ReplaceZeroWithMean([\"Glucose\", \"BloodPressure\", \"SkinThickness\", \"BMI\"])),\n",
    "    (\"model\", joblib.load(model)),\n",
    "]\n",
    "pipeline = Pipeline(steps=steps)\n",
    "pipeline.fit(X_train, y_train)\n",
    "pipeline.score(X_test, y_test)\n",
    "\n",
    "# pipeline.predict(X_test)"
   ]
  }
 ],
 "metadata": {
  "kernelspec": {
   "display_name": "ml1",
   "language": "python",
   "name": "python3"
  },
  "language_info": {
   "codemirror_mode": {
    "name": "ipython",
    "version": 3
   },
   "file_extension": ".py",
   "mimetype": "text/x-python",
   "name": "python",
   "nbconvert_exporter": "python",
   "pygments_lexer": "ipython3",
   "version": "3.13.0"
  }
 },
 "nbformat": 4,
 "nbformat_minor": 2
}
