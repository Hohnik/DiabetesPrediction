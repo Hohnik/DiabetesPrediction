<<<<<<< HEAD
{
 "cells": [
  {
   "cell_type": "code",
   "execution_count": 20,
   "metadata": {},
   "outputs": [
    {
     "name": "stdout",
     "output_type": "stream",
     "text": [
      "Lable Balance ->  268 | 500\n",
      "\n",
      "Features Zero\\NaN -> \n",
      "Pregnancies                 111\n",
      "Glucose                       5\n",
      "BloodPressure                35\n",
      "SkinThickness               227\n",
      "Insulin                     374\n",
      "BMI                          11\n",
      "DiabetesPedigreeFunction      0\n",
      "Age                           0\n",
      "dtype: int64\n"
     ]
    }
   ],
   "source": [
    "import pandas as pd\n",
    "from sklearn.model_selection import train_test_split\n",
    "from Transformer import ReplaceZeroWithMean\n",
    "import joblib\n",
    "\n",
    "\n",
    "RFC_URL = \"Data/Models/RFC\"\n",
    "SVM_URL = \"Data/Models/SVM\"\n",
    "sklearn = \"SVM_sklearn\"\n",
    "\n",
    "models = {\n",
    "    \"RFC\": f\"{RFC_URL}/RFC_no_hyper.pkl\",\n",
    "    \"RFC_hyper\": f\"{RFC_URL}/RFC_hyper.pkl\",\n",
    "    \"RFC_hyper_cv\": f\"{RFC_URL}/RFC_hyper_cv.pkl\",\n",
    "    \"RFC_hyper_cv_tuned\": f\"{RFC_URL}/RFC_hyper_cv_tuned.pkl\",\n",
    "    \"SVM\": f\"{SVM_URL}/{sklearn}/01_SVM_no_hyper_sklearn.pkl\",\n",
    "    \"SVM_para_sampl\": f\"{SVM_URL}/{sklearn}/02_SVM_para_sampl_sklearn.pkl\",\n",
    "    \"SVM_para_grid\": f\"{SVM_URL}/{sklearn}/03_SVM_para_grid_sklearn.pkl\",\n",
    "    \"SVM_kfold_rnd_cv\": f\"{SVM_URL}/{sklearn}/04_SVM_kfold_rnd_cv_sklearn.pkl\",\n",
    "    \"SVM_strat_rnd_cv\": f\"{SVM_URL}/{sklearn}/05_SVM_strat_rnd_cv_sklearn.pkl\",\n",
    "    \"SVM_loocv_rnd_cv\": f\"{SVM_URL}/{sklearn}/06_SVM_loocv_rnd_cv_sklearn.pkl\",\n",
    "    \"SVM_kfold_grid_cv\": f\"{SVM_URL}/{sklearn}/07_SVM_kfold_grid_cv_sklearn.pkl\",\n",
    "    \"SVM_strat_grid_cv\": f\"{SVM_URL}/{sklearn}/08_SVM_strat_grid_cv_sklearn.pkl\",\n",
    "    \"SVM_loocv_grid_cv\": f\"{SVM_URL}/{sklearn}/09_SVM_loocv_grid_cv_sklearn.pkl\",\n",
    "}\n",
    "\n",
    "\n",
    "data = pd.read_csv(\"./Data/diabetes.csv\")\n",
    "print(\n",
    "    \"Lable Balance -> \", (data[\"Outcome\"] == 1).sum(), \"|\", (data[\"Outcome\"] == 0).sum()\n",
    ")\n",
    "print()\n",
    "print(\n",
    "    \"Features Zero\\\\NaN -> \\n\",\n",
    "    data.drop(\"Outcome\", axis=1).where(data == 0).count(axis=0),\n",
    "    sep=\"\",\n",
    ")"
   ]
  },
  {
   "cell_type": "code",
   "execution_count": 21,
   "metadata": {},
   "outputs": [
    {
     "name": "stdout",
     "output_type": "stream",
     "text": [
      "RFC                 : 0.8051948051948052\n",
      "RFC_hyper           : 0.8571428571428571\n",
      "RFC_hyper_cv        : 0.7987012987012987\n",
      "RFC_hyper_cv_tuned  : 0.8441558441558441\n",
      "SVM                 : 0.7922077922077922\n",
      "SVM_para_sampl      : 0.35714285714285715\n",
      "SVM_para_grid       : 0.34415584415584416\n",
      "SVM_kfold_rnd_cv    : 0.4155844155844156\n",
      "SVM_strat_rnd_cv    : 0.6818181818181818\n",
      "SVM_loocv_rnd_cv    : 0.6428571428571429\n",
      "SVM_kfold_grid_cv   : 0.6038961038961039\n",
      "SVM_strat_grid_cv   : 0.538961038961039\n",
      "SVM_loocv_grid_cv   : 0.551948051948052\n"
     ]
    },
    {
     "name": "stderr",
     "output_type": "stream",
     "text": [
      "/Users/niklas/Uni/semester3/machineLearing/vortrag/.venv/lib/python3.13/site-packages/sklearn/svm/_base.py:304: ConvergenceWarning: Solver terminated early (max_iter=3000).  Consider pre-processing your data with StandardScaler or MinMaxScaler.\n",
      "/Users/niklas/Uni/semester3/machineLearing/vortrag/.venv/lib/python3.13/site-packages/sklearn/svm/_base.py:304: ConvergenceWarning: Solver terminated early (max_iter=2000).  Consider pre-processing your data with StandardScaler or MinMaxScaler.\n",
      "/Users/niklas/Uni/semester3/machineLearing/vortrag/.venv/lib/python3.13/site-packages/sklearn/svm/_base.py:304: ConvergenceWarning: Solver terminated early (max_iter=3000).  Consider pre-processing your data with StandardScaler or MinMaxScaler.\n",
      "/Users/niklas/Uni/semester3/machineLearing/vortrag/.venv/lib/python3.13/site-packages/sklearn/svm/_base.py:304: ConvergenceWarning: Solver terminated early (max_iter=2500).  Consider pre-processing your data with StandardScaler or MinMaxScaler.\n",
      "/Users/niklas/Uni/semester3/machineLearing/vortrag/.venv/lib/python3.13/site-packages/sklearn/svm/_base.py:304: ConvergenceWarning: Solver terminated early (max_iter=2500).  Consider pre-processing your data with StandardScaler or MinMaxScaler.\n",
      "/Users/niklas/Uni/semester3/machineLearing/vortrag/.venv/lib/python3.13/site-packages/sklearn/svm/_base.py:304: ConvergenceWarning: Solver terminated early (max_iter=2500).  Consider pre-processing your data with StandardScaler or MinMaxScaler.\n"
     ]
    }
   ],
   "source": [
    "from pprint import pprint\n",
    "\n",
    "\n",
    "X = data.drop(\"Outcome\", axis=1)\n",
    "y = data[\"Outcome\"]\n",
    "X_train, X_test, y_train, y_test = train_test_split(\n",
    "    X, y, train_size=0.80, random_state=1\n",
    ")\n",
    "imputer = ReplaceZeroWithMean([\"Glucose\", \"BloodPressure\", \"SkinThickness\", \"BMI\"])\n",
    "X_train = imputer.fit_transform(X_train)\n",
    "X_test = imputer.transform(X_test)\n",
    "\n",
    "scores = {}\n",
    "for name, model in models.items():\n",
    "    model = joblib.load(model)\n",
    "    model.fit(X_train, y_train)\n",
    "    scores.update({name: model.score(X_test, y_test)})\n",
    "\n",
    "for name, score in scores.items():\n",
    "    print(f\"{name:20}: {score}\")"
   ]
  }
 ],
 "metadata": {
  "kernelspec": {
   "display_name": ".venv",
   "language": "python",
   "name": "python3"
  },
  "language_info": {
   "codemirror_mode": {
    "name": "ipython",
    "version": 3
   },
   "file_extension": ".py",
   "mimetype": "text/x-python",
   "name": "python",
   "nbconvert_exporter": "python",
   "pygments_lexer": "ipython3",
   "version": "3.13.0"
  }
 },
 "nbformat": 4,
 "nbformat_minor": 2
}
||||||| c1bda8b
=======
{
 "cells": [
  {
   "cell_type": "code",
   "execution_count": 20,
   "metadata": {},
   "outputs": [
    {
     "name": "stdout",
     "output_type": "stream",
     "text": [
      "Lable Balance ->  268 | 500\n",
      "\n",
      "Features Zero\\NaN -> \n",
      "Pregnancies                 111\n",
      "Glucose                       5\n",
      "BloodPressure                35\n",
      "SkinThickness               227\n",
      "Insulin                     374\n",
      "BMI                          11\n",
      "DiabetesPedigreeFunction      0\n",
      "Age                           0\n",
      "dtype: int64\n"
     ]
    }
   ],
   "source": [
    "import pandas as pd\n",
    "from sklearn.model_selection import train_test_split\n",
    "from Transformer import ReplaceZeroWithMean\n",
    "import joblib\n",
    "\n",
    "\n",
    "RFC_URL = \"Data/Models/RFC\"\n",
    "SVM_URL = \"Data/Models/SVM\"\n",
    "sklearn = \"SVM_sklearn\"\n",
    "\n",
    "models = {\n",
    "    \"RFC\": f\"{RFC_URL}/RFC_no_hyper.pkl\",\n",
    "    \"RFC_hyper\": f\"{RFC_URL}/RFC_hyper.pkl\",\n",
    "    \"RFC_hyper_cv\": f\"{RFC_URL}/RFC_hyper_cv.pkl\",\n",
    "    \"RFC_hyper_cv_tuned\": f\"{RFC_URL}/RFC_hyper_cv_tuned.pkl\",\n",
    "    \"SVM\": f\"{SVM_URL}/{sklearn}/01_SVM_no_hyper_sklearn.pkl\",\n",
    "    \"SVM_para_sampl\": f\"{SVM_URL}/{sklearn}/02_SVM_para_sampl_sklearn.pkl\",\n",
    "    \"SVM_para_grid\": f\"{SVM_URL}/{sklearn}/03_SVM_para_grid_sklearn.pkl\",\n",
    "    \"SVM_kfold_rnd_cv\": f\"{SVM_URL}/{sklearn}/04_SVM_kfold_rnd_cv_sklearn.pkl\",\n",
    "    \"SVM_strat_rnd_cv\": f\"{SVM_URL}/{sklearn}/05_SVM_strat_rnd_cv_sklearn.pkl\",\n",
    "    \"SVM_loocv_rnd_cv\": f\"{SVM_URL}/{sklearn}/06_SVM_loocv_rnd_cv_sklearn.pkl\",\n",
    "    \"SVM_kfold_grid_cv\": f\"{SVM_URL}/{sklearn}/07_SVM_kfold_grid_cv_sklearn.pkl\",\n",
    "    \"SVM_strat_grid_cv\": f\"{SVM_URL}/{sklearn}/08_SVM_strat_grid_cv_sklearn.pkl\",\n",
    "    \"SVM_loocv_grid_cv\": f\"{SVM_URL}/{sklearn}/09_SVM_loocv_grid_cv_sklearn.pkl\",\n",
    "}\n",
    "\n",
    "\n",
    "data = pd.read_csv(\"./Data/diabetes.csv\")\n",
    "print(\"Lable Balance -> \", (data[\"Outcome\"] == 1).sum(), \"|\", (data[\"Outcome\"] == 0).sum())\n",
    "print()\n",
    "print(\"Features Zero\\\\NaN -> \\n\", data.drop(\"Outcome\", axis=1).where(data == 0).count(axis=0), sep=\"\")"
   ]
  },
  {
   "cell_type": "code",
   "execution_count": 21,
   "metadata": {},
   "outputs": [
    {
     "name": "stdout",
     "output_type": "stream",
     "text": [
      "RFC                 : 0.8051948051948052\n",
      "RFC_hyper           : 0.8571428571428571\n",
      "RFC_hyper_cv        : 0.7987012987012987\n",
      "RFC_hyper_cv_tuned  : 0.8441558441558441\n",
      "SVM                 : 0.7922077922077922\n",
      "SVM_para_sampl      : 0.35714285714285715\n",
      "SVM_para_grid       : 0.34415584415584416\n",
      "SVM_kfold_rnd_cv    : 0.4155844155844156\n",
      "SVM_strat_rnd_cv    : 0.6818181818181818\n",
      "SVM_loocv_rnd_cv    : 0.6428571428571429\n",
      "SVM_kfold_grid_cv   : 0.6038961038961039\n",
      "SVM_strat_grid_cv   : 0.538961038961039\n",
      "SVM_loocv_grid_cv   : 0.551948051948052\n"
     ]
    },
    {
     "name": "stderr",
     "output_type": "stream",
     "text": [
      "/Users/niklas/Uni/semester3/machineLearing/vortrag/.venv/lib/python3.13/site-packages/sklearn/svm/_base.py:304: ConvergenceWarning: Solver terminated early (max_iter=3000).  Consider pre-processing your data with StandardScaler or MinMaxScaler.\n",
      "/Users/niklas/Uni/semester3/machineLearing/vortrag/.venv/lib/python3.13/site-packages/sklearn/svm/_base.py:304: ConvergenceWarning: Solver terminated early (max_iter=2000).  Consider pre-processing your data with StandardScaler or MinMaxScaler.\n",
      "/Users/niklas/Uni/semester3/machineLearing/vortrag/.venv/lib/python3.13/site-packages/sklearn/svm/_base.py:304: ConvergenceWarning: Solver terminated early (max_iter=3000).  Consider pre-processing your data with StandardScaler or MinMaxScaler.\n",
      "/Users/niklas/Uni/semester3/machineLearing/vortrag/.venv/lib/python3.13/site-packages/sklearn/svm/_base.py:304: ConvergenceWarning: Solver terminated early (max_iter=2500).  Consider pre-processing your data with StandardScaler or MinMaxScaler.\n",
      "/Users/niklas/Uni/semester3/machineLearing/vortrag/.venv/lib/python3.13/site-packages/sklearn/svm/_base.py:304: ConvergenceWarning: Solver terminated early (max_iter=2500).  Consider pre-processing your data with StandardScaler or MinMaxScaler.\n",
      "/Users/niklas/Uni/semester3/machineLearing/vortrag/.venv/lib/python3.13/site-packages/sklearn/svm/_base.py:304: ConvergenceWarning: Solver terminated early (max_iter=2500).  Consider pre-processing your data with StandardScaler or MinMaxScaler.\n"
     ]
    }
   ],
   "source": [
    "from pprint import pprint\n",
    "\n",
    "\n",
    "X = data.drop(\"Outcome\", axis=1)\n",
    "y = data[\"Outcome\"]\n",
    "X_train, X_test, y_train, y_test = train_test_split(X, y, train_size=0.80, random_state=1)\n",
    "imputer = ReplaceZeroWithMean([\"Glucose\", \"BloodPressure\", \"SkinThickness\", \"BMI\"])\n",
    "X_train = imputer.fit_transform(X_train)\n",
    "X_test = imputer.transform(X_test)\n",
    "\n",
    "scores = {}\n",
    "for name, model in models.items():\n",
    "    model = joblib.load(model)\n",
    "    model.fit(X_train, y_train)\n",
    "    scores.update({name: model.score(X_test, y_test)})\n",
    "\n",
    "for name, score in scores.items():\n",
    "    print(f\"{name:20}: {score}\")"
   ]
  }
 ],
 "metadata": {
  "kernelspec": {
   "display_name": ".venv",
   "language": "python",
   "name": "python3"
  },
  "language_info": {
   "codemirror_mode": {
    "name": "ipython",
    "version": 3
   },
   "file_extension": ".py",
   "mimetype": "text/x-python",
   "name": "python",
   "nbconvert_exporter": "python",
   "pygments_lexer": "ipython3",
   "version": "3.13.0"
  }
 },
 "nbformat": 4,
 "nbformat_minor": 2
}
>>>>>>> d79c55d92c4bf99c2c8048bbcc5cb2918077f3a5
