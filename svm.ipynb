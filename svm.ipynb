{
 "cells": [
  {
   "cell_type": "code",
   "execution_count": null,
   "id": "Hbol",
   "metadata": {},
   "outputs": [],
   "source": [
    "from sklearn.model_selection import GridSearchCV, StratifiedShuffleSplit, train_test_split\n",
    "from sklearn.svm import SVC\n",
    "import pandas as pd"
   ]
  },
  {
   "cell_type": "code",
   "execution_count": null,
   "id": "57be96c5",
   "metadata": {},
   "outputs": [],
   "source": [
    "model_name = \"test\""
   ]
  },
  {
   "cell_type": "code",
   "execution_count": null,
   "id": "MJUe",
   "metadata": {},
   "outputs": [],
   "source": [
    "# NOTE read in data and split for training\n",
    "data = pd.read_csv(\"diabetes.csv\")\n",
    "X, y = data.drop(columns=\"Outcome\"), data.Outcome\n",
    "X_train, X_test, y_train, y_test = train_test_split(X, y, test_size=0.2, random_state=42)"
   ]
  },
  {
   "cell_type": "code",
   "execution_count": null,
   "id": "vblA",
   "metadata": {},
   "outputs": [],
   "source": [
    "# NOTE Train model\n",
    "import joblib\n",
    "\n",
    "svm = SVC(random_state=37)\n",
    "sss = StratifiedShuffleSplit(n_splits=5, test_size=0.2, random_state=37)\n",
    "params = {\"kernel\": [\"linear\"], \"C\": [0.1]}\n",
    "grid_search = GridSearchCV(svm, params, n_jobs=-1, cv=sss)\n",
    "\n",
    "grid_search.fit(X_train, y_train)\n",
    "joblib.dump(grid_search.best_estimator_, f\"models/{model_name}.joblib\")"
   ]
  },
  {
   "cell_type": "code",
   "execution_count": null,
   "id": "fef46d86",
   "metadata": {},
   "outputs": [],
   "source": [
    "# NOTE Output stats\n",
    "\n",
    "print(\"Parameter:\", params)\n",
    "print(\"Estimator:\", grid_search.best_estimator_)\n",
    "print(\"Train_Score:\", grid_search.best_score_)\n",
    "print(\"Test_Score:\", grid_search.best_estimator_.score(X_test, y_test))"
   ]
  },
  {
   "cell_type": "code",
   "execution_count": null,
   "id": "935f9aa2",
   "metadata": {},
   "outputs": [],
   "source": [
    "import joblib\n",
    "\n",
    "models_path = [\"models/svm_model.joblib\", \"models/svm_model_with_gamma.joblib\"]\n",
    "\n",
    "for path in models_path:\n",
    "    model = joblib.load(path)\n",
    "    name = model.__class__.__name__\n",
    "    filename = path.split(\"/\")[1].split(\".\")[0]\n",
    "    train_score = model.score(X_train, y_train)\n",
    "    test_score = model.score(X_test, y_test)\n",
    "    c = model.get_params()[\"C\"]\n",
    "    gamma = model.get_params()[\"gamma\"]\n",
    "    kernel = model.get_params()[\"kernel\"]\n",
    "\n",
    "    text = f\"\"\"\n",
    "        {name} - {filename}\n",
    "        -----------\n",
    "        Parameter:\n",
    "            C: {c}\n",
    "            Gamma: {gamma}\n",
    "            Kernel: {kernel}\n",
    "        Scores:\n",
    "            Train: {train_score}\n",
    "            Test: {test_score}\n",
    "        \"\"\"\n",
    "    print(text)"
   ]
  }
 ],
 "metadata": {
  "kernelspec": {
   "display_name": "ml1",
   "language": "python",
   "name": "python3"
  },
  "language_info": {
   "codemirror_mode": {
    "name": "ipython",
    "version": 3
   },
   "file_extension": ".py",
   "mimetype": "text/x-python",
   "name": "python",
   "nbconvert_exporter": "python",
   "pygments_lexer": "ipython3",
   "version": "3.13.0"
  }
 },
 "nbformat": 4,
 "nbformat_minor": 5
}
